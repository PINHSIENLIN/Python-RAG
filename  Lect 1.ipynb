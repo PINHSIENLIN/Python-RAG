{
 "cells": [
  {
   "cell_type": "code",
   "execution_count": null,
   "metadata": {},
   "outputs": [],
   "source": [
    "from ollama import chat\n",
    "\n",
    "response = chat(model = 'llama3.2', messages=[\n",
    "{\n",
    "'role': 'user',\n",
    "'content': '如果時間是一種味道,那是什麼味道?',\n",
    "#'content': 'what is NBA?',\n",
    "},\n",
    "], options = {\"temperature\":0.1})\n",
    "\n",
    "print(response.message.content)"
   ]
  },
  {
   "cell_type": "code",
   "execution_count": null,
   "metadata": {},
   "outputs": [],
   "source": [
    "from ollama import chat\n",
    "\n",
    "response = chat(model = 'llama3.2', messages=[\n",
    "{\n",
    "'role': 'user',\n",
    "'content': '如果時間是一種味道,那是什麼味道?',\n",
    "#'content': 'what is NBA?',\n",
    "},\n",
    "], options = {\"temperature\":0.8})\n",
    "\n",
    "print(response.message.content)"
   ]
  },
  {
   "cell_type": "code",
   "execution_count": 1,
   "metadata": {},
   "outputs": [],
   "source": [
    "from ollama import chat\n",
    "\n",
    "def translate_to_English():\n",
    "    memories = []\n",
    "    system_prompt = [\n",
    "        {\n",
    "        'role': 'system',\n",
    "        'content': \"\"\"作為翻譯執行者,請提供精確的語言翻譯服務,只\n",
    "                        進行任何語言轉換為英文的翻譯,特定專有名詞請\n",
    "                        保留原文,翻譯應達到自然流暢、語法正確的水\n",
    "                        平,字數無限制但需完整傳達原文意義\"\"\",\n",
    "        }\n",
    "    ]\n",
    "\n",
    "    while True:\n",
    "        user_input = input(\"請輸入要翻譯的文字 (輸入'/bye'結束對話)\")\n",
    "\n",
    "        if user_input.strip().lower() == \"/bye\":\n",
    "            break\n",
    "\n",
    "        memories.append({      \n",
    "            'role': 'user',\n",
    "            # Ask LLama to translate, prompt\n",
    "            'content': user_input + \"\\n請翻譯以上內容為英文\"         \n",
    "        })\n",
    "        \n",
    "        # the last 10 memeories\n",
    "        response = chat(model = 'llama3.2', messages = system_prompt + memories[-10:], options = {\"temperature\":0.1})\n",
    "\n",
    "        answer = response.message.content\n",
    "        print(\"翻譯結果:\", answer)\n",
    "\n",
    "        memories.append({   \n",
    "            'role': 'assistant',\n",
    "            'content': answer\n",
    "        })"
   ]
  },
  {
   "cell_type": "code",
   "execution_count": null,
   "metadata": {},
   "outputs": [],
   "source": [
    "translate_to_English()"
   ]
  }
 ],
 "metadata": {
  "kernelspec": {
   "display_name": "Python 3",
   "language": "python",
   "name": "python3"
  },
  "language_info": {
   "codemirror_mode": {
    "name": "ipython",
    "version": 3
   },
   "file_extension": ".py",
   "mimetype": "text/x-python",
   "name": "python",
   "nbconvert_exporter": "python",
   "pygments_lexer": "ipython3",
   "version": "3.12.2"
  }
 },
 "nbformat": 4,
 "nbformat_minor": 2
}
